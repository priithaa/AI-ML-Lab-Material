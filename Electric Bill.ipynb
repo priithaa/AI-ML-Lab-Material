{
 "cells": [
  {
   "cell_type": "code",
   "execution_count": 3,
   "metadata": {},
   "outputs": [
    {
     "name": "stdout",
     "output_type": "stream",
     "text": [
      "Enter units900\n"
     ]
    }
   ],
   "source": [
    "units = int(input(\"Enter units\"))"
   ]
  },
  {
   "cell_type": "code",
   "execution_count": 4,
   "metadata": {},
   "outputs": [
    {
     "name": "stdout",
     "output_type": "stream",
     "text": [
      "2700  Rupees\n"
     ]
    }
   ],
   "source": [
    "if units<=100:\n",
    "    print(units*1,\" Rupees\")\n",
    "elif units>100 and units<=250:\n",
    "    print(units*1.25,\" Rupees\")\n",
    "elif units>260 and units<=600:\n",
    "    print(units*1.5,\" Rupees\")\n",
    "elif units>600 and units<=1000:\n",
    "    print(units*3,\" Rupees\")\n",
    "elif units>1000 and units<=1800:\n",
    "    print(units*5,\" Rupees\")\n",
    "else:\n",
    "    print(units*10,\" Rupees\")"
   ]
  },
  {
   "cell_type": "code",
   "execution_count": null,
   "metadata": {},
   "outputs": [],
   "source": []
  }
 ],
 "metadata": {
  "kernelspec": {
   "display_name": "Python 3",
   "language": "python",
   "name": "python3"
  },
  "language_info": {
   "codemirror_mode": {
    "name": "ipython",
    "version": 3
   },
   "file_extension": ".py",
   "mimetype": "text/x-python",
   "name": "python",
   "nbconvert_exporter": "python",
   "pygments_lexer": "ipython3",
   "version": "3.7.3"
  }
 },
 "nbformat": 4,
 "nbformat_minor": 2
}
